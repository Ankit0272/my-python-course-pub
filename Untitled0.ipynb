{
  "nbformat": 4,
  "nbformat_minor": 0,
  "metadata": {
    "colab": {
      "provenance": [],
      "authorship_tag": "ABX9TyPcxAGIpCzDBu+ffcSwMFHj",
      "include_colab_link": true
    },
    "kernelspec": {
      "name": "python3",
      "display_name": "Python 3"
    },
    "language_info": {
      "name": "python"
    }
  },
  "cells": [
    {
      "cell_type": "markdown",
      "metadata": {
        "id": "view-in-github",
        "colab_type": "text"
      },
      "source": [
        "<a href=\"https://colab.research.google.com/github/Ankit0272/my-python-course-pub/blob/main/Untitled0.ipynb\" target=\"_parent\"><img src=\"https://colab.research.google.com/assets/colab-badge.svg\" alt=\"Open In Colab\"/></a>"
      ]
    },
    {
      "cell_type": "code",
      "execution_count": null,
      "metadata": {
        "colab": {
          "base_uri": "https://localhost:8080/"
        },
        "id": "dA-9byNXk9fh",
        "outputId": "e44536ca-5c4b-40e8-cf08-8973fc0bad24"
      },
      "outputs": [
        {
          "output_type": "stream",
          "name": "stdout",
          "text": [
            "My name is Ankit Raj and my favorate hobby is to code programmes for myself \n"
          ]
        }
      ],
      "source": [
        "print(\"My name is Ankit Raj\", \"and my favorate hobby is to code programmes for myself \")\n",
        "#\"My favorate hobby is to coding programmes\""
      ]
    },
    {
      "cell_type": "code",
      "source": [
        "from functools import singledispatch\n",
        "name= \"ankit raj singh\"\n",
        "\n",
        "print(\"hello,\",name)\n",
        "# this is a comment\n",
        "print(\"i'm a chill guy kind of dude,\" \"who always want a chill environment around himself\")\n",
        "'''\n",
        "chal bhag\n",
        "'''\n",
        "a= \"9+9\"\n",
        "p"
      ],
      "metadata": {
        "colab": {
          "base_uri": "https://localhost:8080/"
        },
        "id": "w9OwQ04e19J-",
        "outputId": "bc57eb96-bffc-45db-9fa0-1abb888265aa"
      },
      "execution_count": null,
      "outputs": [
        {
          "output_type": "stream",
          "name": "stdout",
          "text": [
            "hello, ankit raj singh\n",
            "i'm a chill guy kind of dude,who always want a chill environment around himself\n",
            "<built-in function sum>\n"
          ]
        }
      ]
    },
    {
      "cell_type": "code",
      "source": [],
      "metadata": {
        "id": "FDdfG7Ow0qiO"
      },
      "execution_count": null,
      "outputs": []
    }
  ]
}